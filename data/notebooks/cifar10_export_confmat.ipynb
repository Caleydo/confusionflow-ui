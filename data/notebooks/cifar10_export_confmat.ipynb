{
 "cells": [
  {
   "cell_type": "code",
   "execution_count": 1,
   "metadata": {},
   "outputs": [],
   "source": [
    "import pandas as pd\n",
    "import numpy as np\n",
    "import os\n",
    "\n",
    "from sklearn.metrics import confusion_matrix"
   ]
  },
  {
   "cell_type": "code",
   "execution_count": 2,
   "metadata": {},
   "outputs": [],
   "source": [
    "def get_confmat(epoch_data, epoch_id):\n",
    "    epoch = epoch_data[epoch_data['epoch_id'] == epoch_id]\n",
    "    confmat = confusion_matrix(epoch['ground_truth'], epoch['predicted'])\n",
    "    return confmat"
   ]
  },
  {
   "cell_type": "code",
   "execution_count": 3,
   "metadata": {},
   "outputs": [],
   "source": [
    "def export_confmat(epoch_data, dataset_specifier, epoch_id, export_dir):\n",
    "    confmat = get_confmat(epoch_data, epoch_id)\n",
    "    confmat_csv = pd.DataFrame(confmat, columns=list(range(0, 10)))\n",
    "    confmat_csv.index.name = 'class'\n",
    "    \n",
    "    filepath = export_dir + 'epoch' + str(epoch_id) + '_confusion.csv'\n",
    "    confmat_csv.to_csv(filepath)"
   ]
  },
  {
   "cell_type": "code",
   "execution_count": 10,
   "metadata": {},
   "outputs": [],
   "source": [
    "folder_path = \"/data/cifar10/latest/hdf/\"\n",
    "file_paths = [folder_path + file_path for file_path in os.listdir(folder_path)]"
   ]
  },
  {
   "cell_type": "code",
   "execution_count": 9,
   "metadata": {},
   "outputs": [],
   "source": [
    "def generate_confmat(filepath, epoch_sampling):\n",
    "    dataset_specifier = os.path.splitext(os.path.basename(filepath))[0]\n",
    "    export_dir = \"export/\" + dataset_specifier + \"/\"\n",
    "\n",
    "    architecture = \"-\" + dataset_specifier.split('_')[0]\n",
    "    os.mkdir(export_dir)\n",
    "    \n",
    "    epoch_data = pd.read_hdf(filepath)\n",
    "    epoch_data.columns = ([\n",
    "    'ground_truth', 'predicted', 'epoch_id'] + [\"log_softmax_\" + str(x) for x in range(10)])\n",
    "    \n",
    "    for epoch_id in epoch_sampling:\n",
    "        export_confmat(epoch_data, dataset_specifier + architecture, epoch_id, export_dir)"
   ]
  },
  {
   "cell_type": "code",
   "execution_count": 11,
   "metadata": {},
   "outputs": [],
   "source": [
    "for filepath in file_paths:\n",
    "    generate_confmat(filepath, list(range(0, 195)))"
   ]
  },
  {
   "cell_type": "markdown",
   "metadata": {},
   "source": [
    "## Next Steps\n",
    "Copy the folders with the exported confusion matrix files into the `data/cifar10` folder."
   ]
  }
 ],
 "metadata": {
  "kernelspec": {
   "display_name": "Python 2",
   "language": "python",
   "name": "python2"
  },
  "language_info": {
   "codemirror_mode": {
    "name": "ipython",
    "version": 2
   },
   "file_extension": ".py",
   "mimetype": "text/x-python",
   "name": "python",
   "nbconvert_exporter": "python",
   "pygments_lexer": "ipython2",
   "version": "2.7.15"
  }
 },
 "nbformat": 4,
 "nbformat_minor": 2
}
