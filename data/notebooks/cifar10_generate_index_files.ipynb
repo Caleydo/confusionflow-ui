{
 "cells": [
  {
   "cell_type": "code",
   "execution_count": 3,
   "metadata": {},
   "outputs": [],
   "source": [
    "import json\n",
    "import os"
   ]
  },
  {
   "cell_type": "code",
   "execution_count": 4,
   "metadata": {},
   "outputs": [],
   "source": [
    "def get_epoch_confmat_json(dataset, run, epoch, filepath, dataset_size):\n",
    "    confmat_json = {\n",
    "        \"name\": dataset + \"_\" + run + \"-\" + epoch + \"-confusion\",\n",
    "        \"description\": \"DNN dataset that learned \" + dataset + \" images\",\n",
    "        \"path\": dataset + \"/\" + filepath,\n",
    "        \"separator\": \",\",\n",
    "        \"type\": \"matrix\",\n",
    "        \"size\": [10, 10],\n",
    "        \"idtype\": \"Epochs\",\n",
    "        \"rowtype\": \"ground_truth\",\n",
    "        \"coltype\": \"predicted\",\n",
    "        \"value\": {\n",
    "          \"type\": \"int\",\n",
    "          \"range\": [0, dataset_size]\n",
    "        }\n",
    "    }\n",
    "    return confmat_json"
   ]
  },
  {
   "cell_type": "code",
   "execution_count": 5,
   "metadata": {},
   "outputs": [],
   "source": [
    "def get_epoch_label_json(dataset, run):\n",
    "    label_json = {\n",
    "    \"name\": dataset + \"_\" + run + \"-classlabels\",\n",
    "    \"description\": \"Some user attributes\",\n",
    "    \"path\": dataset + \"/labels.csv\",\n",
    "    \"separator\": \",\",\n",
    "    \"type\": \"table\",\n",
    "    \"size\": [10, 3],\n",
    "    \"idtype\": \"Labels\",\n",
    "    \"columns\": [\n",
    "      {\n",
    "        \"name\": \"class_id\",\n",
    "        \"value\": {\n",
    "          \"type\": \"int\",\n",
    "          \"range\": [0, 9]\n",
    "        }\n",
    "      },\n",
    "      {\n",
    "        \"name\": \"class_labels\",\n",
    "        \"value\": {\n",
    "          \"type\": \"string\"\n",
    "        }\n",
    "      }\n",
    "    ]\n",
    "    }\n",
    "    return label_json"
   ]
  },
  {
   "cell_type": "code",
   "execution_count": 6,
   "metadata": {},
   "outputs": [],
   "source": [
    "data_folder = \"/data/cifar10/latest/hdf/\"\n",
    "dataset = \"cifar10\"\n",
    "dataset_size_train = 50000\n",
    "dataset_size_test = 10000\n",
    "dataset_size_test2 = 2000\n",
    "\n",
    "data_folder_runs = data_folder + \"/\" + dataset"
   ]
  },
  {
   "cell_type": "code",
   "execution_count": 7,
   "metadata": {},
   "outputs": [],
   "source": [
    "runs = os.listdir(data_folder_runs)"
   ]
  },
  {
   "cell_type": "code",
   "execution_count": 8,
   "metadata": {},
   "outputs": [],
   "source": [
    "index_json = []\n",
    "\n",
    "for run in runs:\n",
    "    if not run.startswith(\".\") and not run == \"labels.csv\":\n",
    "        confmats = os.listdir(data_folder_runs + \"/\" + run)\n",
    "        for confmat in confmats:\n",
    "            epoch = confmat.split(\"_\")[0]\n",
    "            if run.split(\"_\")[-1] == \"train\":\n",
    "                dataset_size = dataset_size_train\n",
    "            if run.split(\"_\")[-1] == \"test\":\n",
    "                dataset_size = dataset_size_test\n",
    "            else:\n",
    "                dataset_size = dataset_size_test2\n",
    "            \n",
    "            filepath = run + \"/\" + epoch + \"_confusion.csv\"\n",
    "            runID = run + \"-\" + run.split(\"_\")[0] #necessary due to stupid Malevo data definition\n",
    "            \n",
    "            confmat_json = get_epoch_confmat_json(dataset, runID, epoch, filepath, dataset_size)\n",
    "            index_json.append(confmat_json)\n",
    "        \n",
    "        label_json = get_epoch_label_json(dataset, runID)\n",
    "        index_json.append(label_json)"
   ]
  },
  {
   "cell_type": "code",
   "execution_count": 9,
   "metadata": {},
   "outputs": [],
   "source": [
    "with open(data_folder + \"/\" + 'index.json', 'a') as outfile:\n",
    "    json.dump(index_json, outfile, indent=2)"
   ]
  },
  {
   "cell_type": "code",
   "execution_count": null,
   "metadata": {},
   "outputs": [],
   "source": []
  }
 ],
 "metadata": {
  "kernelspec": {
   "display_name": "Python 2",
   "language": "python",
   "name": "python2"
  },
  "language_info": {
   "codemirror_mode": {
    "name": "ipython",
    "version": 2
   },
   "file_extension": ".py",
   "mimetype": "text/x-python",
   "name": "python",
   "nbconvert_exporter": "python",
   "pygments_lexer": "ipython2",
   "version": "2.7.15"
  }
 },
 "nbformat": 4,
 "nbformat_minor": 2
}
