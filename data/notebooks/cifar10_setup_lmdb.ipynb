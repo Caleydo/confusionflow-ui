{
 "cells": [
  {
   "cell_type": "markdown",
   "metadata": {},
   "source": [
    "Download CIFAR10 images first and decompress them\n",
    "```\n",
    "wget https://www.cs.toronto.edu/~kriz/cifar-10-python.tar.gz\n",
    "tar xzf cifar-10-python.tar.gz\n",
    "```"
   ]
  },
  {
   "cell_type": "code",
   "execution_count": 2,
   "metadata": {},
   "outputs": [],
   "source": [
    "import lmdb\n",
    "import numpy as np\n",
    "import pickle\n",
    "import six"
   ]
  },
  {
   "cell_type": "code",
   "execution_count": 9,
   "metadata": {},
   "outputs": [],
   "source": [
    "def load_cifar_batch(file):\n",
    "    with open(file, 'rb') as cifar_batch_pickle:\n",
    "        # unpickle files and read in as dictionary object\n",
    "        cifar_batch = pickle.load(cifar_batch_pickle)\n",
    "    return cifar_batch"
   ]
  },
  {
   "cell_type": "code",
   "execution_count": 21,
   "metadata": {},
   "outputs": [],
   "source": [
    "batch_files = [\n",
    "    'cifar-10-batches-py/data_batch_1',\n",
    "    'cifar-10-batches-py/data_batch_2',\n",
    "    'cifar-10-batches-py/data_batch_3',\n",
    "    'cifar-10-batches-py/data_batch_4',\n",
    "    'cifar-10-batches-py/data_batch_5']"
   ]
  },
  {
   "cell_type": "code",
   "execution_count": 7,
   "metadata": {},
   "outputs": [],
   "source": [
    "batch_files = [\n",
    "    '../data/cifar-10-batches-py/test_batch'\n",
    "]"
   ]
  },
  {
   "cell_type": "code",
   "execution_count": 5,
   "metadata": {},
   "outputs": [],
   "source": [
    "map_size = 10 * 6150000\n",
    "env = lmdb.open('malevo_cifar10_test_lmdb', map_size=map_size)"
   ]
  },
  {
   "cell_type": "code",
   "execution_count": 10,
   "metadata": {},
   "outputs": [],
   "source": [
    "img_id = 0\n",
    "for file in batch_files:\n",
    "    batch_data = load_cifar_batch(file)\n",
    "    \n",
    "    # load and reshape images [N, C, H, W] ... image, channel, height, width\n",
    "    images = batch_data[b'data'].reshape([-1, 3, 32, 32])\n",
    "    # reshape to [N, H, W, C] ... image, height, width, channel\n",
    "    images = images.transpose(0, 2, 3, 1)\n",
    "    # load labels and filenames for index file\n",
    "    \n",
    "    with env.begin(write=True) as txn:\n",
    "        for image in images:\n",
    "            str_id = '{:08}'.format(img_id)\n",
    "            data = image.tobytes()\n",
    "            txn.put(str_id.encode('ascii'), data)\n",
    "            img_id += 1"
   ]
  },
  {
   "cell_type": "code",
   "execution_count": 11,
   "metadata": {},
   "outputs": [
    {
     "name": "stdout",
     "output_type": "stream",
     "text": [
      "{'branch_pages': 1L, 'leaf_pages': 65L, 'overflow_pages': 10000L, 'psize': 4096L, 'depth': 2L, 'entries': 10000L}\n"
     ]
    }
   ],
   "source": [
    "with env.begin() as txn:\n",
    "    print(txn.stat())"
   ]
  },
  {
   "cell_type": "code",
   "execution_count": 18,
   "metadata": {},
   "outputs": [],
   "source": [
    "import math\n",
    "from PIL import Image"
   ]
  },
  {
   "cell_type": "code",
   "execution_count": 19,
   "metadata": {},
   "outputs": [],
   "source": [
    "\n",
    "img_ids = [1, 2, 3, 4]\n",
    "n_imgs = len(img_ids)\n",
    "\n",
    "env = lmdb.open('lmdb_cifar10_test_lmdb')\n",
    "\n",
    "n_w = 10\n",
    "n_h = int(math.ceil(n_imgs / float(n_w)))\n",
    "\n",
    "width = n_w * 32\n",
    "height = n_h * 32\n",
    "\n",
    "master = Image.new(mode='RGB', size=(width, height), color=(0, 0, 0))  # fully transparent\n",
    "\n",
    "k = 0\n",
    "with env.begin() as txn:\n",
    "    for i in range(0, n_h):\n",
    "        for j in range(0, n_w):\n",
    "            if k == n_imgs:\n",
    "              break\n",
    "            str_id = '{:08}'.format(img_ids[k])\n",
    "            img = Image.fromarray(np.frombuffer(txn.get(str_id), dtype=np.uint8).reshape((32, 32, 3)))\n",
    "            master.paste(img, (j * 32, i * 32))\n",
    "\n",
    "            k += 1"
   ]
  },
  {
   "cell_type": "code",
   "execution_count": 20,
   "metadata": {},
   "outputs": [
    {
     "data": {
      "image/png": "[encoded data removed]",
      "text/plain": [
       "<PIL.Image.Image image mode=RGB size=320x32 at 0x10B492910>"
      ]
     },
     "execution_count": 20,
     "metadata": {},
     "output_type": "execute_result"
    }
   ],
   "source": [
    "master"
   ]
  },
  {
   "cell_type": "code",
   "execution_count": null,
   "metadata": {},
   "outputs": [],
   "source": []
  }
 ],
 "metadata": {
  "kernelspec": {
   "display_name": "Python 2",
   "language": "python",
   "name": "python2"
  },
  "language_info": {
   "codemirror_mode": {
    "name": "ipython",
    "version": 2
   },
   "file_extension": ".py",
   "mimetype": "text/x-python",
   "name": "python",
   "nbconvert_exporter": "python",
   "pygments_lexer": "ipython2",
   "version": "2.7.15"
  }
 },
 "nbformat": 4,
 "nbformat_minor": 2
}
